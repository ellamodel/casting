{
  "nbformat": 4,
  "nbformat_minor": 0,
  "metadata": {
    "colab": {
      "name": "FibonacciRetracement.ipynb",
      "provenance": [],
      "include_colab_link": true
    },
    "kernelspec": {
      "name": "python3",
      "display_name": "Python 3"
    }
  },
  "cells": [
    {
      "cell_type": "markdown",
      "metadata": {
        "id": "view-in-github",
        "colab_type": "text"
      },
      "source": [
        "<a href=\"https://colab.research.google.com/github/repla73/casting/blob/master/FibonacciRetracement.ipynb\" target=\"_parent\"><img src=\"https://colab.research.google.com/assets/colab-badge.svg\" alt=\"Open In Colab\"/></a>"
      ]
    },
    {
      "cell_type": "code",
      "metadata": {
        "id": "CE50X_ajiuBm"
      },
      "source": [
        "# Algorithm applying Fibonacci resistance and support bands to a price chart\n",
        "\n",
        "import requests\n",
        "import pandas as pd\n",
        "import numpy as np\n",
        "import pandas_datareader.data as web\n",
        "from datetime import datetime\n",
        "import matplotlib.pyplot as plt\n",
        "plt.style.use('Solarize_Light2')"
      ],
      "execution_count": null,
      "outputs": []
    },
    {
      "cell_type": "code",
      "metadata": {
        "id": "a2P6rH08i9S_"
      },
      "source": [
        "# Fib function\n",
        "\n",
        "def fib_retrace(ticker):\n",
        "\n",
        "  # Fetch data\n",
        "  start = '2016-03-21'\n",
        "  end = datetime.today()\n",
        "  df = web.DataReader(ticker, data_source='yahoo', start=start, end=end)\n",
        "\n",
        "  # Fibonacci constants\n",
        "  max_value = df['Close'].max()\n",
        "  min_value = df['Close'].min()\n",
        "  difference = max_value - min_value\n",
        "\n",
        "  # Set Fibonacci levels\n",
        "  first_level = max_value - difference * -0.618\n",
        "  second_level = max_value - difference * -0.272\n",
        "  third_level = max_value - difference * 0.382\n",
        "  fourth_level = max_value - difference * 0.5\n",
        "  fifth_level = max_value - difference * 0.618\n",
        "  sixth_level - max_value - difference * 1.272\n",
        "  seventh_level - max_value - difference * 1.618\n",
        "\n",
        "\n",
        "  # Print levels\n",
        "  print('Percentage level\\t Price')\n",
        "  print('0.00%\\t\\t', round(max_value, 3))\n",
        "  print('-61.8%\\t\\t', round(first_level, 3))\n",
        "  print('-27.2%\\t\\t', round(second_level, 3))\n",
        "  print('38.2%\\t\\t', round(third_level, 3))\n",
        "  print('50%\\t\\t', round(fourth_level, 3))\n",
        "  print('61.8%\\t\\t', round(fifth_level, 3))\n",
        "  print('127.2%\\t\\t', round(sixth_level, 3))\n",
        "  print('168.1%\\t\\t', round(seventh_level, 3))\n",
        "  print('100.00%\\t\\t', round(min_value, 3))\n",
        "\n",
        "  # Plot Fibonacci graph\n",
        "  plot_title = 'Fibonacci Retracement for ' + ticker\n",
        "  fig = plt.figure(figsize=(22.5, 12.5))\n",
        "  plt.title(plot_title, fontsize=30)\n",
        "  ax = fig.add_subplot(111)\n",
        "  plt.plot(df.index, df['Close'])\n",
        "  plt.axhline(max_value, linestyle='--', alpha=0.5, color='white')\n",
        "  ax.fill_between(df.index, max_value, first_level, color='white', alpha=0.2)\n",
        "\n",
        "  # Fill sections\n",
        "  plt.axhline(first_level, linestyle='--', alpha=0.5, color='red')\n",
        "  ax.fill_between(df.index, first_level, second_level, color='red', alpha=0.2)\n",
        "\n",
        "  plt.axhline(second_level, linestyle='--', alpha=0.5, color='orange')\n",
        "  ax.fill_between(df.index, second_level, third_level, color='orange', alpha=0.2)\n",
        "\n",
        "  plt.axhline(third_level, linestyle='--', alpha=0.5, color='red')\n",
        "  ax.fill_between(df.index, third_level, fourth_level, color='red', alpha=0.2)\n",
        "\n",
        "  plt.axhline(fourth_level, linestyle='--', alpha=0.5, color='yellow')\n",
        "  ax.fill_between(df.index, fourth_level, min_value, color='yellow', alpha=0.2)\n",
        "\n",
        "  plt.axhline(fifth_level, linestyle='--', alpha=0.5, color='red')\n",
        "  ax.fill_between(df.index, fourth_level, min_value, color='red', alpha=0.2)\n",
        "\n",
        "  plt.axhline(sixth_level, linestyle='--', alpha=0.5, color='orange')\n",
        "  ax.fill_between(df.index, fourth_level, min_value, color='orange', alpha=0.2)\n",
        "\n",
        "  plt.axhline(seventh_level, linestyle='--', alpha=0.5, color='red')\n",
        "  ax.fill_between(df.index, fourth_level, min_value, color='red', alpha=0.2)\n",
        "\n",
        "  plt.axhline(min_value, linestyle='--', alpha=0.5, color='white')\n",
        "  plt.xlabel('Date', fontsize=20)\n",
        "  plt.ylabel('Close Price (USD)', fontsize=20)\n",
        "\n",
        "\n"
      ],
      "execution_count": null,
      "outputs": []
    },
    {
      "cell_type": "code",
      "metadata": {
        "id": "Y02ZQrZYMPCq"
      },
      "source": [
        "fib_retrace('BTC-USD')\n"
      ],
      "execution_count": null,
      "outputs": []
    },
    {
      "cell_type": "code",
      "metadata": {
        "id": "IqxP_ucNWAkt"
      },
      "source": [
        "fib_retrace('ETH-USD')"
      ],
      "execution_count": null,
      "outputs": []
    }
  ]
}